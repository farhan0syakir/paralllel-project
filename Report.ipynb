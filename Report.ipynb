{
 "cells": [
  {
   "cell_type": "code",
   "execution_count": 1,
   "metadata": {},
   "outputs": [],
   "source": [
    "from Quadtree import *\n",
    "import random\n",
    "N = 100\n",
    "r = Rectangle(0,0,N,N)\n",
    "qt = QuadTree(r, 4)\n",
    "for i in range(30):\n",
    "    x = random.randint(0, N )\n",
    "    y = random.randint(0, N )\n",
    "    p = Point(x,y)\n",
    "    qt.insert(p)\n",
    "\n",
    "\n",
    "# fig1 = plt.figure()\n",
    "# ax1 = fig1.add_subplot(111, aspect='equal')\n",
    "# lims = (0, 100)\n",
    "# for p in points:\n",
    "#     print(p.x,p.y)\n",
    "#     ax1.scatter(p.x,p.y, color = \"g\")\n",
    "\n",
    "# qt.show()\n",
    "# # ax1.add_patch(patches.Rectangle((1, 1), width, height,fill=False))\n",
    "# plt.ylim(lims)\n",
    "# plt.xlim(lims)\n",
    "\n",
    "# plt.show()"
   ]
  },
  {
   "cell_type": "code",
   "execution_count": 2,
   "metadata": {},
   "outputs": [
    {
     "name": "stdout",
     "output_type": "stream",
     "text": [
      "2\n"
     ]
    },
    {
     "data": {
      "image/png": "[encoded data removed]",
      "text/plain": [
       "<Figure size 432x288 with 1 Axes>"
      ]
     },
     "metadata": {
      "needs_background": "light"
     },
     "output_type": "display_data"
    }
   ],
   "source": [
    "import matplotlib.pyplot as plt\n",
    "import matplotlib.patches as patches\n",
    "\n",
    "x = random.randint(0, N-25 )\n",
    "# x = 25\n",
    "y = random.randint(0, N-25 )\n",
    "# y = 19\n",
    "h = 22\n",
    "w = 22\n",
    "query_box = Rectangle(x, y, w, h);\n",
    "\n",
    "points = qt.query(query_box)\n",
    "print(len(points))\n",
    "# print(len(points))\n",
    "# fig1 = plt.figure()\n",
    "# ax1 = fig1.add_subplot(111, aspect='equal')\n",
    "lims = (0, N)\n",
    "ax1 = qt.show()\n",
    "# print(x,y,w,h)\n",
    "for p in points:\n",
    "    ax1.scatter(p.x,p.y, color = \"r\")\n",
    "ax1.add_patch(patches.Rectangle((x-w, y-h), 2*w, 2*h,fill=False, color=\"r\"))\n",
    "plt.ylim(lims)\n",
    "plt.xlim(lims)\n",
    "plt.show()"
   ]
  },
  {
   "cell_type": "code",
   "execution_count": 3,
   "metadata": {},
   "outputs": [],
   "source": [
    "import numpy as np\n",
    "def split_rec(rec, n = 3):\n",
    "    x = rec.x\n",
    "    y = rec.y\n",
    "    w = rec.w\n",
    "    h = rec.h\n",
    "    new_w = w/n\n",
    "    new_h = h/n\n",
    "    xs = np.linspace(x-2*new_w,x+2*new_w,n)\n",
    "    ys = np.linspace(y-2*new_h,y+2*new_h,n)\n",
    "    rect_list = []\n",
    "#     print(xs[1])\n",
    "    for i in range(n):\n",
    "        for j in range(n):\n",
    "            rect = Rectangle(xs[i],ys[j],new_w,new_h)\n",
    "            rect_list.append(rect)\n",
    "            \n",
    "    return rect_list\n"
   ]
  },
  {
   "cell_type": "code",
   "execution_count": 4,
   "metadata": {},
   "outputs": [
    {
     "data": {
      "image/png": "[encoded data removed]",
      "text/plain": [
       "<Figure size 432x288 with 1 Axes>"
      ]
     },
     "metadata": {
      "needs_background": "light"
     },
     "output_type": "display_data"
    }
   ],
   "source": [
    "# x = random.randint(0, 100 )\n",
    "# y = random.randint(0, 100 )\n",
    "x,y = 52,64\n",
    "query_box = Rectangle(x, y, 30, 30);    \n",
    "rec_list = split_rec(query_box, 3)\n",
    "\n",
    "\n",
    "def show_rect(rec, ax = None):\n",
    "    x = rec.x\n",
    "    y = rec.y\n",
    "    w = rec.w\n",
    "    h = rec.h\n",
    "    ax.add_patch(patches.Rectangle((x-w, y-h), 2*w, 2*h,fill=False, \\\n",
    "                                    color=\"r\"))\n",
    "\n",
    "lims = (0, N)\n",
    "ax1 = qt.show()\n",
    "# print(x,y,w,h)\n",
    "# for p in points:\n",
    "#     ax1.scatter(p.x,p.y, color = \"r\")\n",
    "for q in rec_list:\n",
    "    points = qt.query(q)\n",
    "    for p in points:\n",
    "        ax1.scatter(p.x,p.y, color = \"r\")\n",
    "    show_rect(q, ax1)\n",
    "# show_rect(rec_list[0], ax1)\n",
    "# show_rect(rec_list[4], ax1)\n",
    "# show_rect(query_box,ax1)\n",
    "plt.ylim(lims)\n",
    "plt.xlim(lims)\n",
    "plt.show()"
   ]
  },
  {
   "cell_type": "code",
   "execution_count": 5,
   "metadata": {},
   "outputs": [],
   "source": [
    "from pyspark.context import SparkContext,SparkConf\n",
    "from pyspark.sql import SparkSession\n",
    "from pyspark.sql.functions import broadcast\n",
    "# from pyspark import SparkContext, \n",
    "\n",
    "# conf = SparkConf().setAppName(\"assignment\")\n",
    "# sc = SparkContext(conf=conf)\n",
    "sc = SparkContext(master = 'local[9]', appName = 'test')"
   ]
  },
  {
   "cell_type": "code",
   "execution_count": 6,
   "metadata": {},
   "outputs": [],
   "source": [
    "def parallel_query(qt,query_box):\n",
    "    #bc qt\n",
    "    bc_qt = sc.broadcast(qt)\n",
    "    \n",
    "    #parallelize query\n",
    "    query_list = split_rec(query_box, 3)\n",
    "    rdd_query = sc.parallelize(query_list)\n",
    "    \n",
    "    #map query\n",
    "    def query(query_box):\n",
    "        from Quadtree import Rectangle, QuadTree, Point\n",
    "        points = bc_qt.value.query(query_box)\n",
    "        return points\n",
    "    \n",
    "    result = rdd_query.map(query)\n",
    "    return result.collect()\n",
    "result = parallel_query(qt,query_box)\n",
    "# print(query_box.x,query_box.y)\n",
    "# print(result)"
   ]
  },
  {
   "cell_type": "code",
   "execution_count": 9,
   "metadata": {},
   "outputs": [],
   "source": [
    "import time\n",
    "\n",
    "N = 20000\n",
    "r = Rectangle(0,0,N,N)\n",
    "qt = QuadTree(r, 4)\n",
    "for i in range(10000):\n",
    "    x = random.randint(0, N )\n",
    "    y = random.randint(0, N )\n",
    "    p = Point(x,y)\n",
    "    qt.insert(p)\n"
   ]
  },
  {
   "cell_type": "code",
   "execution_count": 8,
   "metadata": {
    "scrolled": true
   },
   "outputs": [
    {
     "ename": "KeyboardInterrupt",
     "evalue": "",
     "output_type": "error",
     "traceback": [
      "\u001b[1;31m---------------------------------------------------------------------------\u001b[0m",
      "\u001b[1;31mKeyboardInterrupt\u001b[0m                         Traceback (most recent call last)",
      "\u001b[1;32m<ipython-input-8-c477ba586664>\u001b[0m in \u001b[0;36m<module>\u001b[1;34m\u001b[0m\n\u001b[0;32m      8\u001b[0m \u001b[0mquery_box\u001b[0m \u001b[1;33m=\u001b[0m \u001b[0mRectangle\u001b[0m\u001b[1;33m(\u001b[0m\u001b[0mx\u001b[0m\u001b[1;33m,\u001b[0m \u001b[0my\u001b[0m\u001b[1;33m,\u001b[0m \u001b[0mw\u001b[0m\u001b[1;33m,\u001b[0m \u001b[0mh\u001b[0m\u001b[1;33m)\u001b[0m\u001b[1;33m;\u001b[0m\u001b[1;33m\u001b[0m\u001b[1;33m\u001b[0m\u001b[0m\n\u001b[0;32m      9\u001b[0m \u001b[0mstart\u001b[0m \u001b[1;33m=\u001b[0m \u001b[0mtime\u001b[0m\u001b[1;33m.\u001b[0m\u001b[0mtime\u001b[0m\u001b[1;33m(\u001b[0m\u001b[1;33m)\u001b[0m\u001b[1;33m\u001b[0m\u001b[1;33m\u001b[0m\u001b[0m\n\u001b[1;32m---> 10\u001b[1;33m \u001b[0mpoints\u001b[0m \u001b[1;33m=\u001b[0m \u001b[0mqt\u001b[0m\u001b[1;33m.\u001b[0m\u001b[0mquery\u001b[0m\u001b[1;33m(\u001b[0m\u001b[0mquery_box\u001b[0m\u001b[1;33m)\u001b[0m\u001b[1;33m\u001b[0m\u001b[1;33m\u001b[0m\u001b[0m\n\u001b[0m\u001b[0;32m     11\u001b[0m \u001b[0mend\u001b[0m \u001b[1;33m=\u001b[0m \u001b[0mtime\u001b[0m\u001b[1;33m.\u001b[0m\u001b[0mtime\u001b[0m\u001b[1;33m(\u001b[0m\u001b[1;33m)\u001b[0m\u001b[1;33m\u001b[0m\u001b[1;33m\u001b[0m\u001b[0m\n\u001b[0;32m     12\u001b[0m \u001b[0mresult_time\u001b[0m \u001b[1;33m=\u001b[0m \u001b[0mend\u001b[0m \u001b[1;33m-\u001b[0m \u001b[0mstart\u001b[0m\u001b[1;33m\u001b[0m\u001b[1;33m\u001b[0m\u001b[0m\n",
      "\u001b[1;32md:\\Documents\\master degree\\semester 1\\courses\\Parallel Programming\\project\\Quadtree.py\u001b[0m in \u001b[0;36mquery\u001b[1;34m(self, query, found)\u001b[0m\n\u001b[0;32m     96\u001b[0m                 \u001b[0mtmp\u001b[0m \u001b[1;33m=\u001b[0m \u001b[0mself\u001b[0m\u001b[1;33m.\u001b[0m\u001b[0msouthwest\u001b[0m\u001b[1;33m.\u001b[0m\u001b[0mquery\u001b[0m\u001b[1;33m(\u001b[0m\u001b[0mquery\u001b[0m\u001b[1;33m,\u001b[0m\u001b[0mfound\u001b[0m\u001b[1;33m)\u001b[0m\u001b[1;33m\u001b[0m\u001b[1;33m\u001b[0m\u001b[0m\n\u001b[0;32m     97\u001b[0m                 \u001b[0mself\u001b[0m\u001b[1;33m.\u001b[0m\u001b[0mjoin_helper\u001b[0m\u001b[1;33m(\u001b[0m\u001b[0mtmp\u001b[0m\u001b[1;33m,\u001b[0m \u001b[0mfound\u001b[0m\u001b[1;33m)\u001b[0m\u001b[1;33m\u001b[0m\u001b[1;33m\u001b[0m\u001b[0m\n\u001b[1;32m---> 98\u001b[1;33m                 \u001b[0mtmp\u001b[0m \u001b[1;33m=\u001b[0m \u001b[0mself\u001b[0m\u001b[1;33m.\u001b[0m\u001b[0msoutheast\u001b[0m\u001b[1;33m.\u001b[0m\u001b[0mquery\u001b[0m\u001b[1;33m(\u001b[0m\u001b[0mquery\u001b[0m\u001b[1;33m,\u001b[0m\u001b[0mfound\u001b[0m\u001b[1;33m)\u001b[0m\u001b[1;33m\u001b[0m\u001b[1;33m\u001b[0m\u001b[0m\n\u001b[0m\u001b[0;32m     99\u001b[0m                 \u001b[0mself\u001b[0m\u001b[1;33m.\u001b[0m\u001b[0mjoin_helper\u001b[0m\u001b[1;33m(\u001b[0m\u001b[0mtmp\u001b[0m\u001b[1;33m,\u001b[0m \u001b[0mfound\u001b[0m\u001b[1;33m)\u001b[0m\u001b[1;33m\u001b[0m\u001b[1;33m\u001b[0m\u001b[0m\n\u001b[0;32m    100\u001b[0m \u001b[1;33m\u001b[0m\u001b[0m\n",
      "\u001b[1;32md:\\Documents\\master degree\\semester 1\\courses\\Parallel Programming\\project\\Quadtree.py\u001b[0m in \u001b[0;36mquery\u001b[1;34m(self, query, found)\u001b[0m\n\u001b[0;32m     96\u001b[0m                 \u001b[0mtmp\u001b[0m \u001b[1;33m=\u001b[0m \u001b[0mself\u001b[0m\u001b[1;33m.\u001b[0m\u001b[0msouthwest\u001b[0m\u001b[1;33m.\u001b[0m\u001b[0mquery\u001b[0m\u001b[1;33m(\u001b[0m\u001b[0mquery\u001b[0m\u001b[1;33m,\u001b[0m\u001b[0mfound\u001b[0m\u001b[1;33m)\u001b[0m\u001b[1;33m\u001b[0m\u001b[1;33m\u001b[0m\u001b[0m\n\u001b[0;32m     97\u001b[0m                 \u001b[0mself\u001b[0m\u001b[1;33m.\u001b[0m\u001b[0mjoin_helper\u001b[0m\u001b[1;33m(\u001b[0m\u001b[0mtmp\u001b[0m\u001b[1;33m,\u001b[0m \u001b[0mfound\u001b[0m\u001b[1;33m)\u001b[0m\u001b[1;33m\u001b[0m\u001b[1;33m\u001b[0m\u001b[0m\n\u001b[1;32m---> 98\u001b[1;33m                 \u001b[0mtmp\u001b[0m \u001b[1;33m=\u001b[0m \u001b[0mself\u001b[0m\u001b[1;33m.\u001b[0m\u001b[0msoutheast\u001b[0m\u001b[1;33m.\u001b[0m\u001b[0mquery\u001b[0m\u001b[1;33m(\u001b[0m\u001b[0mquery\u001b[0m\u001b[1;33m,\u001b[0m\u001b[0mfound\u001b[0m\u001b[1;33m)\u001b[0m\u001b[1;33m\u001b[0m\u001b[1;33m\u001b[0m\u001b[0m\n\u001b[0m\u001b[0;32m     99\u001b[0m                 \u001b[0mself\u001b[0m\u001b[1;33m.\u001b[0m\u001b[0mjoin_helper\u001b[0m\u001b[1;33m(\u001b[0m\u001b[0mtmp\u001b[0m\u001b[1;33m,\u001b[0m \u001b[0mfound\u001b[0m\u001b[1;33m)\u001b[0m\u001b[1;33m\u001b[0m\u001b[1;33m\u001b[0m\u001b[0m\n\u001b[0;32m    100\u001b[0m \u001b[1;33m\u001b[0m\u001b[0m\n",
      "\u001b[1;32md:\\Documents\\master degree\\semester 1\\courses\\Parallel Programming\\project\\Quadtree.py\u001b[0m in \u001b[0;36mquery\u001b[1;34m(self, query, found)\u001b[0m\n\u001b[0;32m     94\u001b[0m                 \u001b[0mtmp\u001b[0m \u001b[1;33m=\u001b[0m \u001b[0mself\u001b[0m\u001b[1;33m.\u001b[0m\u001b[0mnortheast\u001b[0m\u001b[1;33m.\u001b[0m\u001b[0mquery\u001b[0m\u001b[1;33m(\u001b[0m\u001b[0mquery\u001b[0m\u001b[1;33m,\u001b[0m\u001b[0mfound\u001b[0m\u001b[1;33m)\u001b[0m\u001b[1;33m\u001b[0m\u001b[1;33m\u001b[0m\u001b[0m\n\u001b[0;32m     95\u001b[0m                 \u001b[0mself\u001b[0m\u001b[1;33m.\u001b[0m\u001b[0mjoin_helper\u001b[0m\u001b[1;33m(\u001b[0m\u001b[0mtmp\u001b[0m\u001b[1;33m,\u001b[0m \u001b[0mfound\u001b[0m\u001b[1;33m)\u001b[0m\u001b[1;33m\u001b[0m\u001b[1;33m\u001b[0m\u001b[0m\n\u001b[1;32m---> 96\u001b[1;33m                 \u001b[0mtmp\u001b[0m \u001b[1;33m=\u001b[0m \u001b[0mself\u001b[0m\u001b[1;33m.\u001b[0m\u001b[0msouthwest\u001b[0m\u001b[1;33m.\u001b[0m\u001b[0mquery\u001b[0m\u001b[1;33m(\u001b[0m\u001b[0mquery\u001b[0m\u001b[1;33m,\u001b[0m\u001b[0mfound\u001b[0m\u001b[1;33m)\u001b[0m\u001b[1;33m\u001b[0m\u001b[1;33m\u001b[0m\u001b[0m\n\u001b[0m\u001b[0;32m     97\u001b[0m                 \u001b[0mself\u001b[0m\u001b[1;33m.\u001b[0m\u001b[0mjoin_helper\u001b[0m\u001b[1;33m(\u001b[0m\u001b[0mtmp\u001b[0m\u001b[1;33m,\u001b[0m \u001b[0mfound\u001b[0m\u001b[1;33m)\u001b[0m\u001b[1;33m\u001b[0m\u001b[1;33m\u001b[0m\u001b[0m\n\u001b[0;32m     98\u001b[0m                 \u001b[0mtmp\u001b[0m \u001b[1;33m=\u001b[0m \u001b[0mself\u001b[0m\u001b[1;33m.\u001b[0m\u001b[0msoutheast\u001b[0m\u001b[1;33m.\u001b[0m\u001b[0mquery\u001b[0m\u001b[1;33m(\u001b[0m\u001b[0mquery\u001b[0m\u001b[1;33m,\u001b[0m\u001b[0mfound\u001b[0m\u001b[1;33m)\u001b[0m\u001b[1;33m\u001b[0m\u001b[1;33m\u001b[0m\u001b[0m\n",
      "\u001b[1;32md:\\Documents\\master degree\\semester 1\\courses\\Parallel Programming\\project\\Quadtree.py\u001b[0m in \u001b[0;36mquery\u001b[1;34m(self, query, found)\u001b[0m\n\u001b[0;32m     94\u001b[0m                 \u001b[0mtmp\u001b[0m \u001b[1;33m=\u001b[0m \u001b[0mself\u001b[0m\u001b[1;33m.\u001b[0m\u001b[0mnortheast\u001b[0m\u001b[1;33m.\u001b[0m\u001b[0mquery\u001b[0m\u001b[1;33m(\u001b[0m\u001b[0mquery\u001b[0m\u001b[1;33m,\u001b[0m\u001b[0mfound\u001b[0m\u001b[1;33m)\u001b[0m\u001b[1;33m\u001b[0m\u001b[1;33m\u001b[0m\u001b[0m\n\u001b[0;32m     95\u001b[0m                 \u001b[0mself\u001b[0m\u001b[1;33m.\u001b[0m\u001b[0mjoin_helper\u001b[0m\u001b[1;33m(\u001b[0m\u001b[0mtmp\u001b[0m\u001b[1;33m,\u001b[0m \u001b[0mfound\u001b[0m\u001b[1;33m)\u001b[0m\u001b[1;33m\u001b[0m\u001b[1;33m\u001b[0m\u001b[0m\n\u001b[1;32m---> 96\u001b[1;33m                 \u001b[0mtmp\u001b[0m \u001b[1;33m=\u001b[0m \u001b[0mself\u001b[0m\u001b[1;33m.\u001b[0m\u001b[0msouthwest\u001b[0m\u001b[1;33m.\u001b[0m\u001b[0mquery\u001b[0m\u001b[1;33m(\u001b[0m\u001b[0mquery\u001b[0m\u001b[1;33m,\u001b[0m\u001b[0mfound\u001b[0m\u001b[1;33m)\u001b[0m\u001b[1;33m\u001b[0m\u001b[1;33m\u001b[0m\u001b[0m\n\u001b[0m\u001b[0;32m     97\u001b[0m                 \u001b[0mself\u001b[0m\u001b[1;33m.\u001b[0m\u001b[0mjoin_helper\u001b[0m\u001b[1;33m(\u001b[0m\u001b[0mtmp\u001b[0m\u001b[1;33m,\u001b[0m \u001b[0mfound\u001b[0m\u001b[1;33m)\u001b[0m\u001b[1;33m\u001b[0m\u001b[1;33m\u001b[0m\u001b[0m\n\u001b[0;32m     98\u001b[0m                 \u001b[0mtmp\u001b[0m \u001b[1;33m=\u001b[0m \u001b[0mself\u001b[0m\u001b[1;33m.\u001b[0m\u001b[0msoutheast\u001b[0m\u001b[1;33m.\u001b[0m\u001b[0mquery\u001b[0m\u001b[1;33m(\u001b[0m\u001b[0mquery\u001b[0m\u001b[1;33m,\u001b[0m\u001b[0mfound\u001b[0m\u001b[1;33m)\u001b[0m\u001b[1;33m\u001b[0m\u001b[1;33m\u001b[0m\u001b[0m\n",
      "\u001b[1;32md:\\Documents\\master degree\\semester 1\\courses\\Parallel Programming\\project\\Quadtree.py\u001b[0m in \u001b[0;36mquery\u001b[1;34m(self, query, found)\u001b[0m\n\u001b[0;32m     96\u001b[0m                 \u001b[0mtmp\u001b[0m \u001b[1;33m=\u001b[0m \u001b[0mself\u001b[0m\u001b[1;33m.\u001b[0m\u001b[0msouthwest\u001b[0m\u001b[1;33m.\u001b[0m\u001b[0mquery\u001b[0m\u001b[1;33m(\u001b[0m\u001b[0mquery\u001b[0m\u001b[1;33m,\u001b[0m\u001b[0mfound\u001b[0m\u001b[1;33m)\u001b[0m\u001b[1;33m\u001b[0m\u001b[1;33m\u001b[0m\u001b[0m\n\u001b[0;32m     97\u001b[0m                 \u001b[0mself\u001b[0m\u001b[1;33m.\u001b[0m\u001b[0mjoin_helper\u001b[0m\u001b[1;33m(\u001b[0m\u001b[0mtmp\u001b[0m\u001b[1;33m,\u001b[0m \u001b[0mfound\u001b[0m\u001b[1;33m)\u001b[0m\u001b[1;33m\u001b[0m\u001b[1;33m\u001b[0m\u001b[0m\n\u001b[1;32m---> 98\u001b[1;33m                 \u001b[0mtmp\u001b[0m \u001b[1;33m=\u001b[0m \u001b[0mself\u001b[0m\u001b[1;33m.\u001b[0m\u001b[0msoutheast\u001b[0m\u001b[1;33m.\u001b[0m\u001b[0mquery\u001b[0m\u001b[1;33m(\u001b[0m\u001b[0mquery\u001b[0m\u001b[1;33m,\u001b[0m\u001b[0mfound\u001b[0m\u001b[1;33m)\u001b[0m\u001b[1;33m\u001b[0m\u001b[1;33m\u001b[0m\u001b[0m\n\u001b[0m\u001b[0;32m     99\u001b[0m                 \u001b[0mself\u001b[0m\u001b[1;33m.\u001b[0m\u001b[0mjoin_helper\u001b[0m\u001b[1;33m(\u001b[0m\u001b[0mtmp\u001b[0m\u001b[1;33m,\u001b[0m \u001b[0mfound\u001b[0m\u001b[1;33m)\u001b[0m\u001b[1;33m\u001b[0m\u001b[1;33m\u001b[0m\u001b[0m\n\u001b[0;32m    100\u001b[0m \u001b[1;33m\u001b[0m\u001b[0m\n",
      "\u001b[1;32md:\\Documents\\master degree\\semester 1\\courses\\Parallel Programming\\project\\Quadtree.py\u001b[0m in \u001b[0;36mquery\u001b[1;34m(self, query, found)\u001b[0m\n\u001b[0;32m     94\u001b[0m                 \u001b[0mtmp\u001b[0m \u001b[1;33m=\u001b[0m \u001b[0mself\u001b[0m\u001b[1;33m.\u001b[0m\u001b[0mnortheast\u001b[0m\u001b[1;33m.\u001b[0m\u001b[0mquery\u001b[0m\u001b[1;33m(\u001b[0m\u001b[0mquery\u001b[0m\u001b[1;33m,\u001b[0m\u001b[0mfound\u001b[0m\u001b[1;33m)\u001b[0m\u001b[1;33m\u001b[0m\u001b[1;33m\u001b[0m\u001b[0m\n\u001b[0;32m     95\u001b[0m                 \u001b[0mself\u001b[0m\u001b[1;33m.\u001b[0m\u001b[0mjoin_helper\u001b[0m\u001b[1;33m(\u001b[0m\u001b[0mtmp\u001b[0m\u001b[1;33m,\u001b[0m \u001b[0mfound\u001b[0m\u001b[1;33m)\u001b[0m\u001b[1;33m\u001b[0m\u001b[1;33m\u001b[0m\u001b[0m\n\u001b[1;32m---> 96\u001b[1;33m                 \u001b[0mtmp\u001b[0m \u001b[1;33m=\u001b[0m \u001b[0mself\u001b[0m\u001b[1;33m.\u001b[0m\u001b[0msouthwest\u001b[0m\u001b[1;33m.\u001b[0m\u001b[0mquery\u001b[0m\u001b[1;33m(\u001b[0m\u001b[0mquery\u001b[0m\u001b[1;33m,\u001b[0m\u001b[0mfound\u001b[0m\u001b[1;33m)\u001b[0m\u001b[1;33m\u001b[0m\u001b[1;33m\u001b[0m\u001b[0m\n\u001b[0m\u001b[0;32m     97\u001b[0m                 \u001b[0mself\u001b[0m\u001b[1;33m.\u001b[0m\u001b[0mjoin_helper\u001b[0m\u001b[1;33m(\u001b[0m\u001b[0mtmp\u001b[0m\u001b[1;33m,\u001b[0m \u001b[0mfound\u001b[0m\u001b[1;33m)\u001b[0m\u001b[1;33m\u001b[0m\u001b[1;33m\u001b[0m\u001b[0m\n\u001b[0;32m     98\u001b[0m                 \u001b[0mtmp\u001b[0m \u001b[1;33m=\u001b[0m \u001b[0mself\u001b[0m\u001b[1;33m.\u001b[0m\u001b[0msoutheast\u001b[0m\u001b[1;33m.\u001b[0m\u001b[0mquery\u001b[0m\u001b[1;33m(\u001b[0m\u001b[0mquery\u001b[0m\u001b[1;33m,\u001b[0m\u001b[0mfound\u001b[0m\u001b[1;33m)\u001b[0m\u001b[1;33m\u001b[0m\u001b[1;33m\u001b[0m\u001b[0m\n",
      "\u001b[1;32md:\\Documents\\master degree\\semester 1\\courses\\Parallel Programming\\project\\Quadtree.py\u001b[0m in \u001b[0;36mquery\u001b[1;34m(self, query, found)\u001b[0m\n\u001b[0;32m     91\u001b[0m             \u001b[1;32mif\u001b[0m \u001b[1;33m(\u001b[0m\u001b[0mself\u001b[0m\u001b[1;33m.\u001b[0m\u001b[0mdivided\u001b[0m\u001b[1;33m)\u001b[0m\u001b[1;33m:\u001b[0m\u001b[1;33m\u001b[0m\u001b[1;33m\u001b[0m\u001b[0m\n\u001b[0;32m     92\u001b[0m                 \u001b[0mtmp\u001b[0m \u001b[1;33m=\u001b[0m \u001b[0mself\u001b[0m\u001b[1;33m.\u001b[0m\u001b[0mnorthwest\u001b[0m\u001b[1;33m.\u001b[0m\u001b[0mquery\u001b[0m\u001b[1;33m(\u001b[0m\u001b[0mquery\u001b[0m\u001b[1;33m,\u001b[0m\u001b[0mfound\u001b[0m\u001b[1;33m)\u001b[0m\u001b[1;33m\u001b[0m\u001b[1;33m\u001b[0m\u001b[0m\n\u001b[1;32m---> 93\u001b[1;33m                 \u001b[0mself\u001b[0m\u001b[1;33m.\u001b[0m\u001b[0mjoin_helper\u001b[0m\u001b[1;33m(\u001b[0m\u001b[0mtmp\u001b[0m\u001b[1;33m,\u001b[0m \u001b[0mfound\u001b[0m\u001b[1;33m)\u001b[0m\u001b[1;33m\u001b[0m\u001b[1;33m\u001b[0m\u001b[0m\n\u001b[0m\u001b[0;32m     94\u001b[0m                 \u001b[0mtmp\u001b[0m \u001b[1;33m=\u001b[0m \u001b[0mself\u001b[0m\u001b[1;33m.\u001b[0m\u001b[0mnortheast\u001b[0m\u001b[1;33m.\u001b[0m\u001b[0mquery\u001b[0m\u001b[1;33m(\u001b[0m\u001b[0mquery\u001b[0m\u001b[1;33m,\u001b[0m\u001b[0mfound\u001b[0m\u001b[1;33m)\u001b[0m\u001b[1;33m\u001b[0m\u001b[1;33m\u001b[0m\u001b[0m\n\u001b[0;32m     95\u001b[0m                 \u001b[0mself\u001b[0m\u001b[1;33m.\u001b[0m\u001b[0mjoin_helper\u001b[0m\u001b[1;33m(\u001b[0m\u001b[0mtmp\u001b[0m\u001b[1;33m,\u001b[0m \u001b[0mfound\u001b[0m\u001b[1;33m)\u001b[0m\u001b[1;33m\u001b[0m\u001b[1;33m\u001b[0m\u001b[0m\n",
      "\u001b[1;32md:\\Documents\\master degree\\semester 1\\courses\\Parallel Programming\\project\\Quadtree.py\u001b[0m in \u001b[0;36mjoin_helper\u001b[1;34m(self, tmp, found)\u001b[0m\n\u001b[0;32m     75\u001b[0m         \u001b[1;32mif\u001b[0m \u001b[0mtmp\u001b[0m \u001b[1;32mis\u001b[0m \u001b[1;32mnot\u001b[0m \u001b[1;32mNone\u001b[0m\u001b[1;33m:\u001b[0m\u001b[1;33m\u001b[0m\u001b[1;33m\u001b[0m\u001b[0m\n\u001b[0;32m     76\u001b[0m             \u001b[1;32mfor\u001b[0m \u001b[0mt\u001b[0m \u001b[1;32min\u001b[0m \u001b[0mtmp\u001b[0m\u001b[1;33m:\u001b[0m\u001b[1;33m\u001b[0m\u001b[1;33m\u001b[0m\u001b[0m\n\u001b[1;32m---> 77\u001b[1;33m                 \u001b[1;32mif\u001b[0m \u001b[0mt\u001b[0m \u001b[1;32mnot\u001b[0m \u001b[1;32min\u001b[0m \u001b[0mfound\u001b[0m\u001b[1;33m:\u001b[0m\u001b[1;33m\u001b[0m\u001b[1;33m\u001b[0m\u001b[0m\n\u001b[0m\u001b[0;32m     78\u001b[0m                     \u001b[0mfound\u001b[0m\u001b[1;33m.\u001b[0m\u001b[0mappend\u001b[0m\u001b[1;33m(\u001b[0m\u001b[0mt\u001b[0m\u001b[1;33m)\u001b[0m\u001b[1;33m\u001b[0m\u001b[1;33m\u001b[0m\u001b[0m\n\u001b[0;32m     79\u001b[0m         \u001b[1;32mreturn\u001b[0m \u001b[0mfound\u001b[0m\u001b[1;33m\u001b[0m\u001b[1;33m\u001b[0m\u001b[0m\n",
      "\u001b[1;32md:\\Documents\\master degree\\semester 1\\courses\\Parallel Programming\\project\\Quadtree.py\u001b[0m in \u001b[0;36m__eq__\u001b[1;34m(self, other)\u001b[0m\n\u001b[0;32m      8\u001b[0m \u001b[1;33m\u001b[0m\u001b[0m\n\u001b[0;32m      9\u001b[0m     \u001b[1;32mdef\u001b[0m \u001b[0m__eq__\u001b[0m\u001b[1;33m(\u001b[0m\u001b[0mself\u001b[0m\u001b[1;33m,\u001b[0m\u001b[0mother\u001b[0m\u001b[1;33m)\u001b[0m\u001b[1;33m:\u001b[0m\u001b[1;33m\u001b[0m\u001b[1;33m\u001b[0m\u001b[0m\n\u001b[1;32m---> 10\u001b[1;33m         \u001b[1;32mreturn\u001b[0m \u001b[0mother\u001b[0m\u001b[1;33m.\u001b[0m\u001b[0mx\u001b[0m \u001b[1;33m==\u001b[0m \u001b[0mself\u001b[0m\u001b[1;33m.\u001b[0m\u001b[0mx\u001b[0m \u001b[1;32mand\u001b[0m \u001b[0mother\u001b[0m\u001b[1;33m.\u001b[0m\u001b[0my\u001b[0m \u001b[1;33m==\u001b[0m\u001b[0mself\u001b[0m\u001b[1;33m.\u001b[0m\u001b[0my\u001b[0m\u001b[1;33m\u001b[0m\u001b[1;33m\u001b[0m\u001b[0m\n\u001b[0m\u001b[0;32m     11\u001b[0m \u001b[1;33m\u001b[0m\u001b[0m\n\u001b[0;32m     12\u001b[0m \u001b[1;32mclass\u001b[0m \u001b[0mRectangle\u001b[0m\u001b[1;33m:\u001b[0m\u001b[1;33m\u001b[0m\u001b[1;33m\u001b[0m\u001b[0m\n",
      "\u001b[1;31mKeyboardInterrupt\u001b[0m: "
     ]
    }
   ],
   "source": [
    "x = random.randint(0, N-25 )\n",
    "# x = 25\n",
    "y = random.randint(0, N-25 )\n",
    "# y = 19\n",
    "h = N/4\n",
    "w = N/4\n",
    "query_box = Rectangle(x, y, w, h);\n",
    "start = time.time()\n",
    "points = qt.query(query_box)\n",
    "end = time.time()\n",
    "result_time = end - start\n",
    "print(len(points))\n",
    "print(result_time)\n",
    "# for p in points:\n",
    "#     print(p.x,p.y)"
   ]
  },
  {
   "cell_type": "code",
   "execution_count": null,
   "metadata": {},
   "outputs": [],
   "source": [
    "start = time.time()\n",
    "points = parallel_query(qt,query_box)\n",
    "end = time.time()\n",
    "result_time = end - start\n",
    "total = 0\n",
    "for ps in points:\n",
    "    total += len(ps)\n",
    "#     for p in ps:\n",
    "#         print(p.x,p.y)\n",
    "#     print()\n",
    "print(total)\n",
    "print(result_time)"
   ]
  },
  {
   "cell_type": "code",
   "execution_count": null,
   "metadata": {},
   "outputs": [],
   "source": [
    "import matplotlib.pyplot as plt\n",
    "\n",
    "plt.bar([\"non parallel\",\"parallel\"],[42.035,5.05244])\n",
    "# plt.legend()\n",
    "# plt.yscale(\"log\")\n",
    "plt.title('Parallel quadtree default parameter')\n",
    "plt.ylabel('Time execution')\n",
    "plt.show()\n"
   ]
  },
  {
   "cell_type": "code",
   "execution_count": 19,
   "metadata": {},
   "outputs": [
    {
     "name": "stdout",
     "output_type": "stream",
     "text": [
      "330.5953483581543\n",
      "8.02959394454956\n",
      "1000.0 done\n",
      "38.61006999015808\n",
      "8.241374254226685\n",
      "1950.0 done\n",
      "24.16363286972046\n",
      "8.041430234909058\n",
      "2900.0 done\n",
      "94.36006021499634\n",
      "7.748502016067505\n",
      "3850.0 done\n",
      "192.7554953098297\n",
      "7.743069171905518\n",
      "4800.0 done\n",
      "14.612730741500854\n",
      "6.865519046783447\n",
      "5750.0 done\n",
      "139.07845950126648\n",
      "7.6187522411346436\n",
      "6700.0 done\n",
      "338.77227687835693\n",
      "8.948938369750977\n",
      "7650.0 done\n",
      "145.9539201259613\n",
      "8.903732776641846\n",
      "8600.0 done\n",
      "366.3046827316284\n",
      "6.72364068031311\n",
      "9550.0 done\n",
      "54.26737880706787\n",
      "6.338974237442017\n",
      "10500.0 done\n",
      "139.57469987869263\n",
      "6.939164638519287\n",
      "11450.0 done\n",
      "41.51088237762451\n",
      "6.508997917175293\n",
      "12400.0 done\n",
      "81.34548473358154\n",
      "6.407206773757935\n",
      "13350.0 done\n",
      "26.47062087059021\n",
      "6.682270288467407\n",
      "14300.0 done\n",
      "55.31158757209778\n",
      "7.215219736099243\n",
      "15250.0 done\n",
      "307.3505434989929\n",
      "7.579837083816528\n",
      "16200.0 done\n",
      "140.301598072052\n",
      "7.40073037147522\n",
      "17150.0 done\n",
      "261.28767371177673\n",
      "7.493798017501831\n",
      "18100.0 done\n",
      "32.669249057769775\n",
      "6.950530052185059\n",
      "19050.0 done\n",
      "348.12051606178284\n",
      "7.408575773239136\n",
      "20000.0 done\n",
      "all done\n"
     ]
    }
   ],
   "source": [
    "#field size\n",
    "\n",
    "field_sizes = np.linspace(1000,20000, 21)\n",
    "# print(field_sizes)\n",
    " \n",
    "def measure_time_non(N):\n",
    "    r = Rectangle(0,0,N,N)\n",
    "    qt = QuadTree(r, 4)\n",
    "    for i in range(10000):\n",
    "        x = random.randint(0, N )\n",
    "        y = random.randint(0, N )\n",
    "        p = Point(x,y)\n",
    "        qt.insert(p)\n",
    "\n",
    "    x = random.randint(0, N )\n",
    "    y = random.randint(0, N )\n",
    "    h = N/4\n",
    "    w = N/4\n",
    "    query_box = Rectangle(x, y, w, h);\n",
    "    start = time.time()\n",
    "    points = qt.query(query_box)\n",
    "    end = time.time()\n",
    "    result_time_non = end - start\n",
    "    \n",
    "    start = time.time()\n",
    "    points = parallel_query(qt, query_box)\n",
    "    end = time.time()\n",
    "    result_time_parallel = end - start\n",
    "    \n",
    "    return result_time_non, result_time_parallel\n",
    "\n",
    "results_non = []\n",
    "results_par = []\n",
    "for field in field_sizes:\n",
    "    result_non,result_par = measure_time_non(field)\n",
    "    results_non.append(result_non)\n",
    "    print(result_non)\n",
    "    results_par.append(result_par)\n",
    "    print(result_par)\n",
    "    print(field,\"done\")\n",
    "\n",
    "print(\"all done\")"
   ]
  },
  {
   "cell_type": "code",
   "execution_count": 21,
   "metadata": {},
   "outputs": [
    {
     "data": {
      "image/png": "[encoded data removed]",
      "text/plain": [
       "<Figure size 432x288 with 1 Axes>"
      ]
     },
     "metadata": {
      "needs_background": "light"
     },
     "output_type": "display_data"
    }
   ],
   "source": [
    "plt.plot(field_sizes,results_non, label=\"non parallel\")\n",
    "plt.plot(field_sizes,results_par, label=\"parallel\")\n",
    "plt.legend()\n",
    "# plt.yscale(\"log\")\n",
    "plt.title('Field parameter')\n",
    "plt.ylabel('time execution(s)')\n",
    "plt.xlabel('field sizes')\n",
    "plt.show()\n"
   ]
  },
  {
   "cell_type": "code",
   "execution_count": 38,
   "metadata": {},
   "outputs": [
    {
     "name": "stdout",
     "output_type": "stream",
     "text": [
      "0.0\n",
      "6.359478712081909\n",
      "10 done\n",
      "0.06383252143859863\n",
      "6.582061052322388\n",
      "809 done\n",
      "0.3372499942779541\n",
      "6.390833616256714\n",
      "1608 done\n",
      "1.4478564262390137\n",
      "6.854432821273804\n",
      "2407 done\n",
      "1.5826513767242432\n",
      "7.588452577590942\n",
      "3206 done\n",
      "5.807844638824463\n",
      "6.721503734588623\n",
      "4005 done\n",
      "4.705746650695801\n",
      "6.428231954574585\n",
      "4804 done\n",
      "10.60403037071228\n",
      "7.580533504486084\n",
      "5603 done\n",
      "77.80884289741516\n",
      "7.788207530975342\n",
      "6402 done\n",
      "44.78819727897644\n",
      "7.714215278625488\n",
      "7201 done\n",
      "170.51960134506226\n",
      "8.69188380241394\n",
      "8000 done\n",
      "all done\n"
     ]
    }
   ],
   "source": [
    "#dense size\n",
    "\n",
    "dense_sizes = np.linspace(10,8000, 11,dtype = \"i\")\n",
    "# print(field_sizes)\n",
    " \n",
    "def measure_time(dense):\n",
    "    N = 20000\n",
    "    r = Rectangle(0,0,N,N)\n",
    "    qt = QuadTree(r, 4)\n",
    "    for i in range(dense):\n",
    "        x = random.randint(0, N )\n",
    "        y = random.randint(0, N )\n",
    "        p = Point(x,y)\n",
    "        qt.insert(p)\n",
    "\n",
    "    x = random.randint(0, N )\n",
    "    y = random.randint(0, N )\n",
    "    h = N/4\n",
    "    w = N/4\n",
    "    query_box = Rectangle(x, y, w, h);\n",
    "    start = time.time()\n",
    "    points = qt.query(query_box)\n",
    "    end = time.time()\n",
    "    result_time_non = end - start\n",
    "    \n",
    "    start = time.time()\n",
    "    points = parallel_query(qt, query_box)\n",
    "    end = time.time()\n",
    "    result_time_parallel = end - start\n",
    "    \n",
    "    return result_time_non, result_time_parallel\n",
    "\n",
    "results_non = []\n",
    "results_par = []\n",
    "for field in dense_sizes:\n",
    "    result_non,result_par = measure_time(field)\n",
    "    results_non.append(result_non)\n",
    "    print(result_non)\n",
    "    results_par.append(result_par)\n",
    "    print(result_par)\n",
    "    print(field,\"done\")\n",
    "\n",
    "print(\"all done\")"
   ]
  },
  {
   "cell_type": "code",
   "execution_count": 39,
   "metadata": {},
   "outputs": [
    {
     "data": {
      "image/png": "[encoded data removed]",
      "text/plain": [
       "<Figure size 432x288 with 1 Axes>"
      ]
     },
     "metadata": {
      "needs_background": "light"
     },
     "output_type": "display_data"
    }
   ],
   "source": [
    "# dense_sizes = np.linspace(10,20000, 11,dtype = \"i\")\n",
    "# dense_sizes = dense_sizes[:6]\n",
    "# results_non = [0,4.554527044,6.792114496,78.87204289,372.2041707,492.8731201]\n",
    "# results_par = [11.25275517,11.90786219,11.01060939,11.09887719,11.97464252,11.72529912]\n",
    "plt.plot(dense_sizes,results_non, label=\"non parallel\")\n",
    "plt.plot(dense_sizes,results_par, label=\"parallel\")\n",
    "plt.legend()\n",
    "# plt.yscale(\"log\")\n",
    "plt.title('Dense sizes parameter')\n",
    "plt.ylabel('time execution(s)')\n",
    "plt.xlabel('dense sizes')\n",
    "plt.show()\n"
   ]
  },
  {
   "cell_type": "code",
   "execution_count": 41,
   "metadata": {},
   "outputs": [
    {
     "name": "stdout",
     "output_type": "stream",
     "text": [
      "0.0\n",
      "7.802143573760986\n",
      "1.0 done\n",
      "0.001994609832763672\n",
      "6.9044201374053955\n",
      "3.9 done\n",
      "0.04587888717651367\n",
      "6.535950660705566\n",
      "6.8 done\n",
      "1.0016839504241943\n",
      "6.540375232696533\n",
      "9.7 done\n",
      "4.221004486083984\n",
      "6.5194244384765625\n",
      "12.6 done\n",
      "18.85640239715576\n",
      "6.556508779525757\n",
      "15.5 done\n",
      "9.654217004776001\n",
      "6.776410102844238\n",
      "18.4 done\n",
      "102.20491909980774\n",
      "6.968346834182739\n",
      "21.3 done\n",
      "339.45820331573486\n",
      "8.945115804672241\n",
      "24.2 done\n",
      "41.86030650138855\n",
      "8.471843004226685\n",
      "27.099999999999998 done\n",
      "66.63068509101868\n",
      "8.712417602539062\n",
      "30.0 done\n",
      "all done\n"
     ]
    }
   ],
   "source": [
    "#box query size\n",
    "\n",
    "box_sizes = np.linspace(1,30, 11)\n",
    "# print(field_sizes)\n",
    " \n",
    "def measure_time(box):\n",
    "    N = 20000\n",
    "    r = Rectangle(0,0,N,N)\n",
    "    qt = QuadTree(r, 4)\n",
    "    for i in range(10000):\n",
    "        x = random.randint(0, N )\n",
    "        y = random.randint(0, N )\n",
    "        p = Point(x,y)\n",
    "        qt.insert(p)\n",
    "#     print(N)\n",
    "    x = random.randint(0, N )\n",
    "    y = random.randint(0, N )\n",
    "    h = N*box/100\n",
    "    w = N*box/100\n",
    "    query_box = Rectangle(x, y, w, h);\n",
    "    start = time.time()\n",
    "    points = qt.query(query_box)\n",
    "    end = time.time()\n",
    "    result_time_non = end - start\n",
    "    \n",
    "    start = time.time()\n",
    "    points = parallel_query(qt, query_box)\n",
    "    end = time.time()\n",
    "    result_time_parallel = end - start\n",
    "    \n",
    "    return result_time_non, result_time_parallel\n",
    "\n",
    "results_non = []\n",
    "results_par = []\n",
    "for field in box_sizes:\n",
    "    result_non,result_par = measure_time(field)\n",
    "    results_non.append(result_non)\n",
    "    print(result_non)\n",
    "    results_par.append(result_par)\n",
    "    print(result_par)\n",
    "    print(field,\"done\")\n",
    "\n",
    "print(\"all done\")"
   ]
  },
  {
   "cell_type": "code",
   "execution_count": 43,
   "metadata": {},
   "outputs": [
    {
     "data": {
      "image/png": "[encoded data removed]",
      "text/plain": [
       "<Figure size 432x288 with 1 Axes>"
      ]
     },
     "metadata": {
      "needs_background": "light"
     },
     "output_type": "display_data"
    }
   ],
   "source": [
    "plt.plot(box_sizes,results_non, label=\"non parallel\")\n",
    "plt.plot(box_sizes,results_par, label=\"parallel\")\n",
    "plt.legend()\n",
    "# plt.yscale(\"log\")\n",
    "plt.title('Query box sizes parameter')\n",
    "plt.ylabel('time execution(s)')\n",
    "plt.xlabel('query sizes(%)')\n",
    "plt.show()\n"
   ]
  }
 ],
 "metadata": {
  "kernelspec": {
   "display_name": "Python 3",
   "language": "python",
   "name": "python3"
  },
  "language_info": {
   "codemirror_mode": {
    "name": "ipython",
    "version": 3
   },
   "file_extension": ".py",
   "mimetype": "text/x-python",
   "name": "python",
   "nbconvert_exporter": "python",
   "pygments_lexer": "ipython3",
   "version": "3.7.3"
  }
 },
 "nbformat": 4,
 "nbformat_minor": 2
}
